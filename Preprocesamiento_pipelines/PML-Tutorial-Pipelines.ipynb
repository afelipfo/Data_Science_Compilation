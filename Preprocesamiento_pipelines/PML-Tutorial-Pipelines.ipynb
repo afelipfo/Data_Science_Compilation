{
 "cells": [
  {
   "cell_type": "markdown",
   "metadata": {},
   "source": [
    "# Solución de problemas con pipelines - Preprocesamiento\n",
    "\n",
    "En este tutorial aprenderás cómo crear pipelines para realizar todo el preprocesamiento de datos, realizando la búsqueda de hiperparámetros y entrenando un modelo de árboles de decisión. Adicionalmente, evaluarás el mejor modelo usando métricas de rendimiento para un problema de clasificación. Específicamente, verás cómo realizar los siguientes procesos:\n",
    "\n",
    "1. Importar las librerías requeridas.\n",
    "2. Cargar un conjunto de datos.\n",
    "3. Explorar el conjunto de datos.\n",
    "4. Definir los pasos y ejecutar el preprocesamiento de datos mediante un pipeline.\n",
    "5. Realizar la búsqueda de hiperparámetros para el modelo de árbol de decisión.\n",
    "6. Evaluar el mejor modelo resultante.\n",
    "\n",
    "Utilizaremos el conjunto de datos correspondiente a la compra de seguros de viaje. En este problema queremos predecir si una persona va a comprar un seguro de viaje dependiendo de factores como su edad, salario, educación, entre otros."
   ]
  },
  {
   "cell_type": "markdown",
   "metadata": {},
   "source": [
    "## 1. Importación de librerías requeridas\n",
    "\n",
    "Importaremos las librerías `pandas`, `matplotlib`, `numpy` y `scikit-learn`. En particular, usaremos las siguientes clases y funciones para construir el pipeline, así como entrenar y evaluar el modelo de árboles de decisión:\n",
    "\n",
    "* `Pipeline()`: clase para construir el pipeline.\n",
    "* `SimpleImputer()`: clase para realizar la imputación de datos.\n",
    "* `ColumnTransformer()`: clase para realizar transformaciones por columnas.\n",
    "* `StandardScaler()`: clase para realizar la estandarización.\n",
    "* `OneHotEncoder()`: clase para realizar la codificación OneHot.\n",
    "* `DecisionTreeClassifier()`: clase para crear el modelo de árbol de decisión.\n",
    "* `classification_report()`: función para obtener un reporte con las métricas de rendimiento por clase.\n",
    "* `plot_confusion_matrix()`: función para graficar la matriz de confusión."
   ]
  },
  {
   "cell_type": "code",
   "execution_count": 1,
   "metadata": {},
   "outputs": [],
   "source": [
    "import pandas as pd\n",
    "import matplotlib.pyplot as plt\n",
    "import numpy as np\n",
    "\n",
    "from sklearn.pipeline import Pipeline\n",
    "from sklearn.impute import SimpleImputer\n",
    "from sklearn.compose import ColumnTransformer\n",
    "from sklearn.preprocessing import StandardScaler, OneHotEncoder\n",
    "from sklearn.tree import DecisionTreeClassifier\n",
    "from sklearn.model_selection import train_test_split, KFold, GridSearchCV\n",
    "from sklearn.metrics import classification_report, plot_confusion_matrix"
   ]
  },
  {
   "cell_type": "markdown",
   "metadata": {},
   "source": [
    "## 2. Carga de datos\n",
    "\n",
    "Realizaremos la carga de datos usando la función de Pandas `read_csv()`, especificando la ruta y el separador del archivo:"
   ]
  },
  {
   "cell_type": "code",
   "execution_count": 2,
   "metadata": {},
   "outputs": [],
   "source": [
    "data_raw = pd.read_csv('data/TravelInsurancePrediction.csv', sep=',')"
   ]
  },
  {
   "cell_type": "markdown",
   "metadata": {},
   "source": [
    "Veamos los primeros datos del conjunto utilizando `head()`:"
   ]
  },
  {
   "cell_type": "code",
   "execution_count": 3,
   "metadata": {
    "scrolled": true
   },
   "outputs": [
    {
     "data": {
      "text/html": [
       "<div>\n",
       "<style scoped>\n",
       "    .dataframe tbody tr th:only-of-type {\n",
       "        vertical-align: middle;\n",
       "    }\n",
       "\n",
       "    .dataframe tbody tr th {\n",
       "        vertical-align: top;\n",
       "    }\n",
       "\n",
       "    .dataframe thead th {\n",
       "        text-align: right;\n",
       "    }\n",
       "</style>\n",
       "<table border=\"1\" class=\"dataframe\">\n",
       "  <thead>\n",
       "    <tr style=\"text-align: right;\">\n",
       "      <th></th>\n",
       "      <th>Index</th>\n",
       "      <th>Age</th>\n",
       "      <th>Employment Type</th>\n",
       "      <th>GraduateOrNot</th>\n",
       "      <th>AnnualIncome</th>\n",
       "      <th>FamilyMembers</th>\n",
       "      <th>ChronicDiseases</th>\n",
       "      <th>FrequentFlyer</th>\n",
       "      <th>EverTravelledAbroad</th>\n",
       "      <th>TravelInsurance</th>\n",
       "    </tr>\n",
       "  </thead>\n",
       "  <tbody>\n",
       "    <tr>\n",
       "      <th>0</th>\n",
       "      <td>0</td>\n",
       "      <td>31.0</td>\n",
       "      <td>Government Sector</td>\n",
       "      <td>Yes</td>\n",
       "      <td>400000.0</td>\n",
       "      <td>6.0</td>\n",
       "      <td>1.0</td>\n",
       "      <td>No</td>\n",
       "      <td>No</td>\n",
       "      <td>0</td>\n",
       "    </tr>\n",
       "    <tr>\n",
       "      <th>1</th>\n",
       "      <td>1</td>\n",
       "      <td>31.0</td>\n",
       "      <td>Private Sector/Self Employed</td>\n",
       "      <td>Yes</td>\n",
       "      <td>1250000.0</td>\n",
       "      <td>7.0</td>\n",
       "      <td>0.0</td>\n",
       "      <td>No</td>\n",
       "      <td>No</td>\n",
       "      <td>0</td>\n",
       "    </tr>\n",
       "    <tr>\n",
       "      <th>2</th>\n",
       "      <td>2</td>\n",
       "      <td>34.0</td>\n",
       "      <td>Private Sector/Self Employed</td>\n",
       "      <td>Yes</td>\n",
       "      <td>500000.0</td>\n",
       "      <td>4.0</td>\n",
       "      <td>1.0</td>\n",
       "      <td>No</td>\n",
       "      <td>No</td>\n",
       "      <td>1</td>\n",
       "    </tr>\n",
       "    <tr>\n",
       "      <th>3</th>\n",
       "      <td>3</td>\n",
       "      <td>28.0</td>\n",
       "      <td>Private Sector/Self Employed</td>\n",
       "      <td>Yes</td>\n",
       "      <td>700000.0</td>\n",
       "      <td>3.0</td>\n",
       "      <td>1.0</td>\n",
       "      <td>No</td>\n",
       "      <td>No</td>\n",
       "      <td>0</td>\n",
       "    </tr>\n",
       "    <tr>\n",
       "      <th>4</th>\n",
       "      <td>4</td>\n",
       "      <td>28.0</td>\n",
       "      <td>Private Sector/Self Employed</td>\n",
       "      <td>Yes</td>\n",
       "      <td>700000.0</td>\n",
       "      <td>8.0</td>\n",
       "      <td>1.0</td>\n",
       "      <td>Yes</td>\n",
       "      <td>No</td>\n",
       "      <td>0</td>\n",
       "    </tr>\n",
       "  </tbody>\n",
       "</table>\n",
       "</div>"
      ],
      "text/plain": [
       "   Index   Age               Employment Type GraduateOrNot  AnnualIncome  \\\n",
       "0      0  31.0             Government Sector           Yes      400000.0   \n",
       "1      1  31.0  Private Sector/Self Employed           Yes     1250000.0   \n",
       "2      2  34.0  Private Sector/Self Employed           Yes      500000.0   \n",
       "3      3  28.0  Private Sector/Self Employed           Yes      700000.0   \n",
       "4      4  28.0  Private Sector/Self Employed           Yes      700000.0   \n",
       "\n",
       "   FamilyMembers  ChronicDiseases FrequentFlyer EverTravelledAbroad  \\\n",
       "0            6.0              1.0            No                  No   \n",
       "1            7.0              0.0            No                  No   \n",
       "2            4.0              1.0            No                  No   \n",
       "3            3.0              1.0            No                  No   \n",
       "4            8.0              1.0           Yes                  No   \n",
       "\n",
       "   TravelInsurance  \n",
       "0                0  \n",
       "1                0  \n",
       "2                1  \n",
       "3                0  \n",
       "4                0  "
      ]
     },
     "execution_count": 3,
     "metadata": {},
     "output_type": "execute_result"
    }
   ],
   "source": [
    "data_raw.head()"
   ]
  },
  {
   "cell_type": "markdown",
   "metadata": {},
   "source": [
    "Como puedes observar, nuestro conjunto de datos contiene cinco variables categóricas: `Employment Type`, `GraduateOrNot`, `ChronicDiseases`, `FrequentFlyer` y `EverTravelledAbroad`."
   ]
  },
  {
   "cell_type": "markdown",
   "metadata": {},
   "source": [
    "## 3. Exploración del conjunto de datos\n",
    "\n",
    "Primero utilizaremos `data_raw.describe()` para obtener una descripción de las variables numéricas del conjunto de datos. Ten en cuenta que esta función también incluye variables categóricas con clases numéricas como, por ejemplo, la variable `ChronicDiseases` o la variable objetivo `TravelInsurance`:"
   ]
  },
  {
   "cell_type": "code",
   "execution_count": 4,
   "metadata": {},
   "outputs": [
    {
     "data": {
      "text/html": [
       "<div>\n",
       "<style scoped>\n",
       "    .dataframe tbody tr th:only-of-type {\n",
       "        vertical-align: middle;\n",
       "    }\n",
       "\n",
       "    .dataframe tbody tr th {\n",
       "        vertical-align: top;\n",
       "    }\n",
       "\n",
       "    .dataframe thead th {\n",
       "        text-align: right;\n",
       "    }\n",
       "</style>\n",
       "<table border=\"1\" class=\"dataframe\">\n",
       "  <thead>\n",
       "    <tr style=\"text-align: right;\">\n",
       "      <th></th>\n",
       "      <th>Index</th>\n",
       "      <th>Age</th>\n",
       "      <th>AnnualIncome</th>\n",
       "      <th>FamilyMembers</th>\n",
       "      <th>ChronicDiseases</th>\n",
       "      <th>TravelInsurance</th>\n",
       "    </tr>\n",
       "  </thead>\n",
       "  <tbody>\n",
       "    <tr>\n",
       "      <th>count</th>\n",
       "      <td>1987.000000</td>\n",
       "      <td>1939.000000</td>\n",
       "      <td>1.937000e+03</td>\n",
       "      <td>1931.000000</td>\n",
       "      <td>1940.000000</td>\n",
       "      <td>1987.000000</td>\n",
       "    </tr>\n",
       "    <tr>\n",
       "      <th>mean</th>\n",
       "      <td>993.000000</td>\n",
       "      <td>29.670449</td>\n",
       "      <td>9.358286e+05</td>\n",
       "      <td>4.767996</td>\n",
       "      <td>0.278866</td>\n",
       "      <td>0.357323</td>\n",
       "    </tr>\n",
       "    <tr>\n",
       "      <th>std</th>\n",
       "      <td>573.741812</td>\n",
       "      <td>2.910996</td>\n",
       "      <td>3.762435e+05</td>\n",
       "      <td>1.614709</td>\n",
       "      <td>0.448557</td>\n",
       "      <td>0.479332</td>\n",
       "    </tr>\n",
       "    <tr>\n",
       "      <th>min</th>\n",
       "      <td>0.000000</td>\n",
       "      <td>25.000000</td>\n",
       "      <td>3.000000e+05</td>\n",
       "      <td>2.000000</td>\n",
       "      <td>0.000000</td>\n",
       "      <td>0.000000</td>\n",
       "    </tr>\n",
       "    <tr>\n",
       "      <th>25%</th>\n",
       "      <td>496.500000</td>\n",
       "      <td>28.000000</td>\n",
       "      <td>6.000000e+05</td>\n",
       "      <td>4.000000</td>\n",
       "      <td>0.000000</td>\n",
       "      <td>0.000000</td>\n",
       "    </tr>\n",
       "    <tr>\n",
       "      <th>50%</th>\n",
       "      <td>993.000000</td>\n",
       "      <td>29.000000</td>\n",
       "      <td>9.000000e+05</td>\n",
       "      <td>5.000000</td>\n",
       "      <td>0.000000</td>\n",
       "      <td>0.000000</td>\n",
       "    </tr>\n",
       "    <tr>\n",
       "      <th>75%</th>\n",
       "      <td>1489.500000</td>\n",
       "      <td>32.000000</td>\n",
       "      <td>1.250000e+06</td>\n",
       "      <td>6.000000</td>\n",
       "      <td>1.000000</td>\n",
       "      <td>1.000000</td>\n",
       "    </tr>\n",
       "    <tr>\n",
       "      <th>max</th>\n",
       "      <td>1986.000000</td>\n",
       "      <td>35.000000</td>\n",
       "      <td>1.800000e+06</td>\n",
       "      <td>9.000000</td>\n",
       "      <td>1.000000</td>\n",
       "      <td>1.000000</td>\n",
       "    </tr>\n",
       "  </tbody>\n",
       "</table>\n",
       "</div>"
      ],
      "text/plain": [
       "             Index          Age  AnnualIncome  FamilyMembers  ChronicDiseases  \\\n",
       "count  1987.000000  1939.000000  1.937000e+03    1931.000000      1940.000000   \n",
       "mean    993.000000    29.670449  9.358286e+05       4.767996         0.278866   \n",
       "std     573.741812     2.910996  3.762435e+05       1.614709         0.448557   \n",
       "min       0.000000    25.000000  3.000000e+05       2.000000         0.000000   \n",
       "25%     496.500000    28.000000  6.000000e+05       4.000000         0.000000   \n",
       "50%     993.000000    29.000000  9.000000e+05       5.000000         0.000000   \n",
       "75%    1489.500000    32.000000  1.250000e+06       6.000000         1.000000   \n",
       "max    1986.000000    35.000000  1.800000e+06       9.000000         1.000000   \n",
       "\n",
       "       TravelInsurance  \n",
       "count      1987.000000  \n",
       "mean          0.357323  \n",
       "std           0.479332  \n",
       "min           0.000000  \n",
       "25%           0.000000  \n",
       "50%           0.000000  \n",
       "75%           1.000000  \n",
       "max           1.000000  "
      ]
     },
     "execution_count": 4,
     "metadata": {},
     "output_type": "execute_result"
    }
   ],
   "source": [
    "data_raw.describe()"
   ]
  },
  {
   "cell_type": "markdown",
   "metadata": {},
   "source": [
    "Podemos utilizar `value_counts` para obtener cada valor posible de las variables categóricas y su frecuencia de aparición sobre el total de los datos. Por ejemplo, obtendremos la distribución de valores para la variable `Employment Type`:"
   ]
  },
  {
   "cell_type": "code",
   "execution_count": 5,
   "metadata": {},
   "outputs": [
    {
     "data": {
      "text/plain": [
       "Private Sector/Self Employed    1356\n",
       "Government Sector                547\n",
       "Name: Employment Type, dtype: int64"
      ]
     },
     "execution_count": 5,
     "metadata": {},
     "output_type": "execute_result"
    }
   ],
   "source": [
    "pd.value_counts(data_raw['Employment Type'])"
   ]
  },
  {
   "cell_type": "markdown",
   "metadata": {},
   "source": [
    "## 4. Definición de pasos y ejecución del preprocesamiento de datos\n",
    "\n",
    "Primero vamos a definir la variable `data` para almacenar un conjunto de datos modificado, utilizando el método `copy()`:"
   ]
  },
  {
   "cell_type": "code",
   "execution_count": 6,
   "metadata": {},
   "outputs": [],
   "source": [
    "data = data_raw.copy()"
   ]
  },
  {
   "cell_type": "markdown",
   "metadata": {},
   "source": [
    "### Eliminación de variables poco relevantes\n",
    "\n",
    "Este conjunto de datos solo tiene una variable poco relevante para predecir si el cliente va a comprar un seguro de viajes: `Index`. Haciendo uso de la función `drop()`, eliminaremos esta variable del DataFrame:"
   ]
  },
  {
   "cell_type": "code",
   "execution_count": 7,
   "metadata": {},
   "outputs": [],
   "source": [
    "data = data.drop('Index', axis=1)"
   ]
  },
  {
   "cell_type": "markdown",
   "metadata": {},
   "source": [
    "### Tratamiento de nulos y duplicados\n",
    "\n",
    "Veremos si hay duplicados utilizando `duplicated().sum()`:"
   ]
  },
  {
   "cell_type": "code",
   "execution_count": 8,
   "metadata": {},
   "outputs": [
    {
     "data": {
      "text/plain": [
       "486"
      ]
     },
     "execution_count": 8,
     "metadata": {},
     "output_type": "execute_result"
    }
   ],
   "source": [
    "data.duplicated().sum()"
   ]
  },
  {
   "cell_type": "markdown",
   "metadata": {},
   "source": [
    "Podemos tratar directamente los datos duplicados antes de entrar al pipeline mediante la función `drop_duplicates()` de Pandas: "
   ]
  },
  {
   "cell_type": "code",
   "execution_count": 9,
   "metadata": {},
   "outputs": [],
   "source": [
    "data = data.drop_duplicates()"
   ]
  },
  {
   "cell_type": "markdown",
   "metadata": {},
   "source": [
    "Adicionalmente, revisaremos si nuestros datos contienen datos nulos usando `isna().sum()`:"
   ]
  },
  {
   "cell_type": "code",
   "execution_count": 10,
   "metadata": {},
   "outputs": [
    {
     "data": {
      "text/plain": [
       "Age                    48\n",
       "Employment Type        83\n",
       "GraduateOrNot          65\n",
       "AnnualIncome           48\n",
       "FamilyMembers          51\n",
       "ChronicDiseases        47\n",
       "FrequentFlyer          90\n",
       "EverTravelledAbroad    92\n",
       "TravelInsurance         0\n",
       "dtype: int64"
      ]
     },
     "execution_count": 10,
     "metadata": {},
     "output_type": "execute_result"
    }
   ],
   "source": [
    "data.isna().sum()"
   ]
  },
  {
   "cell_type": "markdown",
   "metadata": {},
   "source": [
    "En vez de eliminar estos datos, definiremos una etapa dentro del pipeline que los tratará para poder utilizarlos dentro del entrenamiento. Específicamente, realizaremos una imputación de datos para reemplazar los valores nulos por valores como la media, mediana, entre otros. En ese sentido, definiremos un objeto de la clase `SimpleImputer()`, especificando que reemplazaremos los valores nulos por el valor más frecuente. Ten en cuenta que utilizamos esta estrategia para poder tratar variables tanto numéricas como categóricas: "
   ]
  },
  {
   "cell_type": "code",
   "execution_count": 11,
   "metadata": {},
   "outputs": [],
   "source": [
    "simple_imputer = SimpleImputer(strategy='most_frequent')"
   ]
  },
  {
   "cell_type": "markdown",
   "metadata": {},
   "source": [
    "### Transformación de variables categóricas\n",
    "\n",
    "Teóricamente, el modelo de árboles de decisión no necesita que todas las variables sean numéricas, pues simplemente genera divisiones según un criterio a optimizar, usando la distribución de los valores para cada variable. Sin embargo, la implementación de `sklearn` necesita que todos los valores de las variables sean numéricos, por lo que realizaremos una codificación OneHot. En este caso, incluiremos la codificación dentro del pipeline mediante un objeto de la clase `OneHotEncoder()`:"
   ]
  },
  {
   "cell_type": "code",
   "execution_count": 12,
   "metadata": {},
   "outputs": [],
   "source": [
    "encoder = OneHotEncoder()"
   ]
  },
  {
   "cell_type": "markdown",
   "metadata": {},
   "source": [
    "### Estandarización de variables numéricas\n",
    "\n",
    "Igualmente, el modelo de árboles de decisión no necesita estandarizar las variables para realizar las particiones. Sin embargo, incluiremos un paso de estandarización por completitud de nuestro pipeline de preprocesamiento, haciendo uso de un objeto de la clase `StandardScaler()`: "
   ]
  },
  {
   "cell_type": "code",
   "execution_count": 13,
   "metadata": {},
   "outputs": [],
   "source": [
    "scaler = StandardScaler()"
   ]
  },
  {
   "cell_type": "markdown",
   "metadata": {},
   "source": [
    "En este punto debes notar que no hemos especificado las columnas que serán procesadas por el paso de codificación y por el paso de estandarización, por lo que podemos afectar variables que no corresponden. Para especificar qué variables deben ser modificadas por cada uno de los objetos utilizaremos un objeto de la clase `ColumnTransformer()`, que recibe una lista de tuplas `(nombre, objeto, columnas)` especificando qué objeto se usará con qué conjunto de variables:"
   ]
  },
  {
   "cell_type": "code",
   "execution_count": 15,
   "metadata": {},
   "outputs": [],
   "source": [
    "# Variables Age, AnnualIncome, FamilyMembers\n",
    "numeric_features = [0, 3, 4]\n",
    "# Variables Employment Type, GraduateOrNot, ChronicDiseases, FrequentFlyer, EverTravelledAbroad\n",
    "categorical_features = [1, 2, 5, 6, 7]\n",
    "\n",
    "column_transformer = ColumnTransformer(\n",
    "    transformers=[\n",
    "        (\"num\", scaler, numeric_features),\n",
    "        (\"cat\", encoder, categorical_features)\n",
    "    ]\n",
    ")"
   ]
  },
  {
   "cell_type": "markdown",
   "metadata": {},
   "source": [
    "Como puedes ver, especificamos dos listas con los índices de las variables numéricas y categóricas (`numeric_features` y `categorical_features`) que utilizaremos para especificar el parámetro `transformers`. En total, el objeto `column_transformer` es el que incluiremos en nuestro pipeline."
   ]
  },
  {
   "cell_type": "markdown",
   "metadata": {},
   "source": [
    "### Creación del pipeline\n",
    "\n",
    "La librería `scikit-learn` utiliza el concepto de transformadores y estimadores para la implementación de todas sus clases. Un transformador es un objeto que implementa los métodos `fit()` y `transform()`, que procesan un conjunto de datos de entrada y aplican operaciones sobre ellos. Por otro lado, un estimador es un objeto que implementa el método `fit()` y genera modelos a partir de datos. En ese sentido, un pipeline es una estructura que aplica transformadores secuecialmente y termina con un estimador sobre un conjunto de datos. \n",
    "\n",
    "Para nuestro problema definiremos la secuencia de pasos que aplicaremos sobre el conjunto de datos, utilizando tuplas de la forma `(nombre, objeto)`:"
   ]
  },
  {
   "cell_type": "code",
   "execution_count": 16,
   "metadata": {},
   "outputs": [],
   "source": [
    "steps = [\n",
    "    (\"imputer\",simple_imputer),\n",
    "    (\"transformer\",column_transformer),\n",
    "]"
   ]
  },
  {
   "cell_type": "markdown",
   "metadata": {},
   "source": [
    "Con la secuencia de pasos definida, crearemos un objeto de la clase `Pipeline()` para realizar el preprocesamiento:"
   ]
  },
  {
   "cell_type": "code",
   "execution_count": 17,
   "metadata": {},
   "outputs": [],
   "source": [
    "pipeline = Pipeline(steps)"
   ]
  },
  {
   "cell_type": "markdown",
   "metadata": {},
   "source": [
    "### División de datos\n",
    "\n",
    "Ahora dividiremos el conjunto de datos resultante en un conjunto de entrenamiento y uno de pruebas mediante la función `train_test_split()`. Usaremos el 80% de los datos para el entrenamiento y el 20% restante para las pruebas:"
   ]
  },
  {
   "cell_type": "code",
   "execution_count": 18,
   "metadata": {},
   "outputs": [
    {
     "data": {
      "text/html": [
       "<div>\n",
       "<style scoped>\n",
       "    .dataframe tbody tr th:only-of-type {\n",
       "        vertical-align: middle;\n",
       "    }\n",
       "\n",
       "    .dataframe tbody tr th {\n",
       "        vertical-align: top;\n",
       "    }\n",
       "\n",
       "    .dataframe thead th {\n",
       "        text-align: right;\n",
       "    }\n",
       "</style>\n",
       "<table border=\"1\" class=\"dataframe\">\n",
       "  <thead>\n",
       "    <tr style=\"text-align: right;\">\n",
       "      <th></th>\n",
       "      <th>Age</th>\n",
       "      <th>Employment Type</th>\n",
       "      <th>GraduateOrNot</th>\n",
       "      <th>AnnualIncome</th>\n",
       "      <th>FamilyMembers</th>\n",
       "      <th>ChronicDiseases</th>\n",
       "      <th>FrequentFlyer</th>\n",
       "      <th>EverTravelledAbroad</th>\n",
       "      <th>TravelInsurance</th>\n",
       "    </tr>\n",
       "  </thead>\n",
       "  <tbody>\n",
       "    <tr>\n",
       "      <th>857</th>\n",
       "      <td>28.0</td>\n",
       "      <td>Government Sector</td>\n",
       "      <td>Yes</td>\n",
       "      <td>600000.0</td>\n",
       "      <td>3.0</td>\n",
       "      <td>0.0</td>\n",
       "      <td>No</td>\n",
       "      <td>No</td>\n",
       "      <td>1</td>\n",
       "    </tr>\n",
       "    <tr>\n",
       "      <th>783</th>\n",
       "      <td>29.0</td>\n",
       "      <td>Private Sector/Self Employed</td>\n",
       "      <td>Yes</td>\n",
       "      <td>1100000.0</td>\n",
       "      <td>7.0</td>\n",
       "      <td>0.0</td>\n",
       "      <td>NaN</td>\n",
       "      <td>No</td>\n",
       "      <td>0</td>\n",
       "    </tr>\n",
       "    <tr>\n",
       "      <th>1326</th>\n",
       "      <td>34.0</td>\n",
       "      <td>Private Sector/Self Employed</td>\n",
       "      <td>Yes</td>\n",
       "      <td>700000.0</td>\n",
       "      <td>5.0</td>\n",
       "      <td>0.0</td>\n",
       "      <td>No</td>\n",
       "      <td>No</td>\n",
       "      <td>0</td>\n",
       "    </tr>\n",
       "    <tr>\n",
       "      <th>1780</th>\n",
       "      <td>31.0</td>\n",
       "      <td>Private Sector/Self Employed</td>\n",
       "      <td>Yes</td>\n",
       "      <td>950000.0</td>\n",
       "      <td>NaN</td>\n",
       "      <td>0.0</td>\n",
       "      <td>Yes</td>\n",
       "      <td>No</td>\n",
       "      <td>0</td>\n",
       "    </tr>\n",
       "    <tr>\n",
       "      <th>1424</th>\n",
       "      <td>31.0</td>\n",
       "      <td>Government Sector</td>\n",
       "      <td>Yes</td>\n",
       "      <td>400000.0</td>\n",
       "      <td>9.0</td>\n",
       "      <td>0.0</td>\n",
       "      <td>No</td>\n",
       "      <td>No</td>\n",
       "      <td>0</td>\n",
       "    </tr>\n",
       "  </tbody>\n",
       "</table>\n",
       "</div>"
      ],
      "text/plain": [
       "       Age               Employment Type GraduateOrNot  AnnualIncome  \\\n",
       "857   28.0             Government Sector           Yes      600000.0   \n",
       "783   29.0  Private Sector/Self Employed           Yes     1100000.0   \n",
       "1326  34.0  Private Sector/Self Employed           Yes      700000.0   \n",
       "1780  31.0  Private Sector/Self Employed           Yes      950000.0   \n",
       "1424  31.0             Government Sector           Yes      400000.0   \n",
       "\n",
       "      FamilyMembers  ChronicDiseases FrequentFlyer EverTravelledAbroad  \\\n",
       "857             3.0              0.0            No                  No   \n",
       "783             7.0              0.0           NaN                  No   \n",
       "1326            5.0              0.0            No                  No   \n",
       "1780            NaN              0.0           Yes                  No   \n",
       "1424            9.0              0.0            No                  No   \n",
       "\n",
       "      TravelInsurance  \n",
       "857                 1  \n",
       "783                 0  \n",
       "1326                0  \n",
       "1780                0  \n",
       "1424                0  "
      ]
     },
     "execution_count": 18,
     "metadata": {},
     "output_type": "execute_result"
    }
   ],
   "source": [
    "train, test = train_test_split(data, test_size=0.2, random_state=9)\n",
    "train.head()"
   ]
  },
  {
   "cell_type": "markdown",
   "metadata": {},
   "source": [
    "Además, separaremos la variable objetivo `TravelInsurance` de las variables descriptoras:"
   ]
  },
  {
   "cell_type": "code",
   "execution_count": 19,
   "metadata": {},
   "outputs": [],
   "source": [
    "x_train = train.drop(['TravelInsurance'],axis=1)\n",
    "y_train = train['TravelInsurance']"
   ]
  },
  {
   "cell_type": "markdown",
   "metadata": {},
   "source": [
    "Posteriormente, vamos a utilizar el pipeline de preprocesamiento para transformar el conjunto de datos mediante la función `fit_transform()`. Debes tener en cuenta que el conjunto de datos resultante es un arreglo de `numpy`, por lo que si quieres reconstruir el DataFrame, es necesario utilizar el diccionario de datos:"
   ]
  },
  {
   "cell_type": "code",
   "execution_count": 20,
   "metadata": {},
   "outputs": [
    {
     "data": {
      "text/plain": [
       "array([[-0.55831904, -0.91043782, -1.10867577, ...,  0.        ,\n",
       "         1.        ,  0.        ],\n",
       "       [-0.21117767,  0.47478519,  1.26176686, ...,  0.        ,\n",
       "         1.        ,  0.        ],\n",
       "       [ 1.5245292 , -0.63339322,  0.07654554, ...,  0.        ,\n",
       "         1.        ,  0.        ],\n",
       "       ...,\n",
       "       [-0.90546042, -0.21782632, -1.70128643, ...,  0.        ,\n",
       "         0.        ,  1.        ],\n",
       "       [-0.90546042,  1.72148589,  0.6691562 , ...,  1.        ,\n",
       "         1.        ,  0.        ],\n",
       "       [ 0.48310508,  1.30591899, -1.10867577, ...,  1.        ,\n",
       "         0.        ,  1.        ]])"
      ]
     },
     "execution_count": 20,
     "metadata": {},
     "output_type": "execute_result"
    }
   ],
   "source": [
    "x_train_transformed = pipeline.fit_transform(x_train)\n",
    "x_train_transformed"
   ]
  },
  {
   "cell_type": "markdown",
   "metadata": {},
   "source": [
    "## 5. Búsqueda de hiperparámetros para el modelo de árbol de decisión\n",
    "\n",
    "Con el conjunto de datos modificado, crearemos un objeto de la clase `DecisionTreeClassifier()` que será nuestro modelo base para realizar la búsqueda exhaustiva de hiperparámetros:"
   ]
  },
  {
   "cell_type": "code",
   "execution_count": 22,
   "metadata": {},
   "outputs": [],
   "source": [
    "decision_tree = DecisionTreeClassifier(random_state=0)"
   ]
  },
  {
   "cell_type": "markdown",
   "metadata": {},
   "source": [
    "Utilizaremos los siguientes parámetros para realizar la búsqueda:\n",
    "* `criterion`: el criterio de pureza, que determina la calidad de una división. Utilizaremos dos de los más populares: la entropía y GINI.\n",
    "* `max_depth`: la profundidad máxima del árbol. Este hiperparámetro se utiliza para el control de la complejidad del modelo.\n",
    "* `min_samples_split`: número mínimo de datos necesarios en un nodo para poder definir una división."
   ]
  },
  {
   "cell_type": "code",
   "execution_count": 23,
   "metadata": {},
   "outputs": [],
   "source": [
    "param_grid = {'criterion': ['entropy', 'gini'],\n",
    "              'max_depth': [2, 4, 6, 8],\n",
    "              'min_samples_split': [2, 3, 5, 10]}"
   ]
  },
  {
   "cell_type": "markdown",
   "metadata": {},
   "source": [
    "Además, definiremos un objeto de la clase `KFold()` para realizar la validación cruzada con 10 subconjuntos de datos:"
   ]
  },
  {
   "cell_type": "code",
   "execution_count": 24,
   "metadata": {},
   "outputs": [],
   "source": [
    "kfold = KFold(n_splits=10, shuffle=True, random_state=0)"
   ]
  },
  {
   "cell_type": "markdown",
   "metadata": {},
   "source": [
    "Finalmente, definiremos la búsqueda con un objeto de la clase `GridSearchCV()` usando el modelo `decision_tree`, el espacio de búsqueda `param_grid` y la técnica de validación cruzada `kfold`:"
   ]
  },
  {
   "cell_type": "code",
   "execution_count": 25,
   "metadata": {},
   "outputs": [],
   "source": [
    "grid = GridSearchCV(decision_tree, param_grid, cv=kfold, n_jobs=-1)"
   ]
  },
  {
   "cell_type": "markdown",
   "metadata": {},
   "source": [
    "Ejecutaremos la búsqueda sobre el conjunto de entrenamiento modificado con el pipeline, definido por las variables `x_train_transformed` y `y_train`:"
   ]
  },
  {
   "cell_type": "code",
   "execution_count": 26,
   "metadata": {},
   "outputs": [
    {
     "data": {
      "text/plain": [
       "GridSearchCV(cv=KFold(n_splits=10, random_state=0, shuffle=True),\n",
       "             error_score=nan,\n",
       "             estimator=DecisionTreeClassifier(ccp_alpha=0.0, class_weight=None,\n",
       "                                              criterion='gini', max_depth=None,\n",
       "                                              max_features=None,\n",
       "                                              max_leaf_nodes=None,\n",
       "                                              min_impurity_decrease=0.0,\n",
       "                                              min_impurity_split=None,\n",
       "                                              min_samples_leaf=1,\n",
       "                                              min_samples_split=2,\n",
       "                                              min_weight_fraction_leaf=0.0,\n",
       "                                              presort='deprecated',\n",
       "                                              random_state=0, splitter='best'),\n",
       "             iid='deprecated', n_jobs=-1,\n",
       "             param_grid={'criterion': ['entropy', 'gini'],\n",
       "                         'max_depth': [2, 4, 6, 8],\n",
       "                         'min_samples_split': [2, 3, 5, 10]},\n",
       "             pre_dispatch='2*n_jobs', refit=True, return_train_score=False,\n",
       "             scoring=None, verbose=0)"
      ]
     },
     "execution_count": 26,
     "metadata": {},
     "output_type": "execute_result"
    }
   ],
   "source": [
    "grid.fit(x_train_transformed, y_train)"
   ]
  },
  {
   "cell_type": "markdown",
   "metadata": {},
   "source": [
    "Ahora obtendremos los mejores valores de los hiperparámetros usando `grid.best_params_`:"
   ]
  },
  {
   "cell_type": "code",
   "execution_count": 27,
   "metadata": {},
   "outputs": [
    {
     "name": "stdout",
     "output_type": "stream",
     "text": [
      "Mejores parámetros: {'criterion': 'entropy', 'max_depth': 4, 'min_samples_split': 2}\n"
     ]
    }
   ],
   "source": [
    "print(\"Mejores parámetros: {}\".format(grid.best_params_))"
   ]
  },
  {
   "cell_type": "markdown",
   "metadata": {},
   "source": [
    "Como puedes ver, el mejor modelo utiliza la entropía como criterio de pureza, una profundidad máxima de 4 y un mínimo de 2 datos para realizar una división. Almacenaremos el mejor modelo utilizando `grid.best_estimator_`:"
   ]
  },
  {
   "cell_type": "code",
   "execution_count": 28,
   "metadata": {},
   "outputs": [],
   "source": [
    "mejor_modelo = grid.best_estimator_"
   ]
  },
  {
   "cell_type": "markdown",
   "metadata": {},
   "source": [
    "## 6. Evaluación del mejor modelo\n",
    "\n",
    "Empezaremos separando la variable objetivo de las variables descriptoras en el conjunto de pruebas:"
   ]
  },
  {
   "cell_type": "code",
   "execution_count": 29,
   "metadata": {},
   "outputs": [],
   "source": [
    "x_test = test.drop(['TravelInsurance'],axis=1)\n",
    "y_test = test['TravelInsurance']"
   ]
  },
  {
   "cell_type": "markdown",
   "metadata": {},
   "source": [
    "Con la información disponible del conjunto de entrenamiento, haremos uso de la función `transform()` del pipeline para transformar el conjunto de pruebas, obteniendo un arreglo de `numpy`:"
   ]
  },
  {
   "cell_type": "code",
   "execution_count": 30,
   "metadata": {},
   "outputs": [
    {
     "data": {
      "text/plain": [
       "array([[-0.90546042, -0.35634862,  0.07654554, ...,  0.        ,\n",
       "         1.        ,  0.        ],\n",
       "       [ 1.87167058,  0.47478519,  1.85437752, ...,  1.        ,\n",
       "         1.        ,  0.        ],\n",
       "       [ 0.48310508,  0.75182979, -1.10867577, ...,  0.        ,\n",
       "         1.        ,  0.        ],\n",
       "       ...,\n",
       "       [ 0.48310508,  0.89035209,  0.07654554, ...,  0.        ,\n",
       "         1.        ,  0.        ],\n",
       "       [ 0.13596371, -1.04896012,  1.26176686, ...,  1.        ,\n",
       "         1.        ,  0.        ],\n",
       "       [-1.59974317,  1.16739669,  0.6691562 , ...,  0.        ,\n",
       "         0.        ,  1.        ]])"
      ]
     },
     "execution_count": 30,
     "metadata": {},
     "output_type": "execute_result"
    }
   ],
   "source": [
    "x_test_transformed = pipeline.transform(x_test)\n",
    "x_test_transformed"
   ]
  },
  {
   "cell_type": "markdown",
   "metadata": {},
   "source": [
    "A continuación realizaremos predicciones sobre el conjunto de pruebas transformado para comparar con los valores de `y_test`. Utilizaremos la función `predict()` sobre el mejor modelo:"
   ]
  },
  {
   "cell_type": "code",
   "execution_count": 31,
   "metadata": {},
   "outputs": [],
   "source": [
    "y_pred = mejor_modelo.predict(x_test_transformed)"
   ]
  },
  {
   "cell_type": "markdown",
   "metadata": {},
   "source": [
    "Ahora utilizaremos la función `plot_confusion_matrix()` para generar un mapa de calor con los valores de la matriz de confusión:"
   ]
  },
  {
   "cell_type": "code",
   "execution_count": 32,
   "metadata": {},
   "outputs": [
    {
     "data": {
      "image/png": "[encoded data removed]",
      "text/plain": [
       "<Figure size 432x288 with 2 Axes>"
      ]
     },
     "metadata": {
      "needs_background": "light"
     },
     "output_type": "display_data"
    }
   ],
   "source": [
    "plot_confusion_matrix(mejor_modelo, x_test_transformed, y_test)  \n",
    "plt.show()"
   ]
  },
  {
   "cell_type": "markdown",
   "metadata": {},
   "source": [
    "Como puedes observar, el modelo tiende a predecir correctamente la clase 0, es decir, tiene mejor desempeño al predecir a las personas que no van a comprar un seguro de viaje. De hecho, para la clase 1, el modelo tiende a predecir erróneamente. Específicamente, podemos observar las métricas de desempeño usando `classification_report()`:"
   ]
  },
  {
   "cell_type": "code",
   "execution_count": 33,
   "metadata": {},
   "outputs": [
    {
     "name": "stdout",
     "output_type": "stream",
     "text": [
      "              precision    recall  f1-score   support\n",
      "\n",
      "           0       0.76      0.97      0.85       188\n",
      "           1       0.92      0.48      0.63       113\n",
      "\n",
      "    accuracy                           0.79       301\n",
      "   macro avg       0.84      0.73      0.74       301\n",
      "weighted avg       0.82      0.79      0.77       301\n",
      "\n"
     ]
    }
   ],
   "source": [
    "print(classification_report(y_test, y_pred))"
   ]
  },
  {
   "cell_type": "markdown",
   "metadata": {},
   "source": [
    "En este modelo se tienen valores altos en la sensibilidad de la clase 0. Como la clase 1 no tiene tanta representación, se tiene una sensibilidad bastante baja, aunque la precisión tiene un valor alto. Este valor de precisión indica que de los datos que el árbol clasifica en la clase 1 la mayoría realmente pertenecen a esta clase."
   ]
  }
 ],
 "metadata": {
  "kernelspec": {
   "display_name": "Python 3",
   "language": "python",
   "name": "python3"
  },
  "language_info": {
   "codemirror_mode": {
    "name": "ipython",
    "version": 3
   },
   "file_extension": ".py",
   "mimetype": "text/x-python",
   "name": "python",
   "nbconvert_exporter": "python",
   "pygments_lexer": "ipython3",
   "version": "3.7.6"
  }
 },
 "nbformat": 4,
 "nbformat_minor": 4
}
